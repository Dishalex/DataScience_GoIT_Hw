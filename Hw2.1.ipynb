{
 "cells": [
  {
   "cell_type": "markdown",
   "metadata": {},
   "source": [
    "<strong class=\"ql-size-large\">Частина перша: Знайомство з Pandas.</strong>\n",
    "<p>Прочитайте дані за допомогою методу&nbsp;<code>read_html&nbsp;</code>з таблиці \"Коефіцієнт народжуваності в регіонах України (1950—2019)\"&nbsp;<a href=\"https://uk.wikipedia.org/wiki/%D0%9D%D0%B0%D1%81%D0%B5%D0%BB%D0%B5%D0%BD%D0%BD%D1%8F_%D0%A3%D0%BA%D1%80%D0%B0%D1%97%D0%BD%D0%B8\" rel=\"noopener noreferrer\" target=\"_blank\">посилання</a></p>"
   ]
  },
  {
   "cell_type": "code",
   "execution_count": null,
   "metadata": {},
   "outputs": [],
   "source": [
    "import pandas as pd\n",
    "\n",
    "ref = 'https://uk.wikipedia.org/wiki/%D0%9D%D0%B0%D1%81%D0%B5%D0%BB%D0%B5%D0%BD%D0%BD%D1%8F_%D0%A3%D0%BA%D1%80%D0%B0%D1%97%D0%BD%D0%B8'\n",
    "table_name = \"Коефіцієнт народжуваності в регіонах\"\n",
    "\n",
    "tables = pd.read_html(ref, match=table_name, thousands='.', decimal=',') #, na_values=[\"—\"])\n",
    "birth_coef = tables[0]\n",
    "print(birth_coef)"
   ]
  },
  {
   "cell_type": "markdown",
   "metadata": {},
   "source": [
    "<li>Вивести перші рядки таблиці за допомогою методу <code>head</code></li>"
   ]
  },
  {
   "cell_type": "code",
   "execution_count": null,
   "metadata": {},
   "outputs": [],
   "source": [
    "print(birth_coef.head())"
   ]
  },
  {
   "cell_type": "markdown",
   "metadata": {},
   "source": [
    "<li>Визначте кількість рядків та стовпців у датафреймі (атрибут&nbsp;<code>shape</code>)</li>"
   ]
  },
  {
   "cell_type": "code",
   "execution_count": null,
   "metadata": {},
   "outputs": [],
   "source": [
    "print(birth_coef.shape)"
   ]
  },
  {
   "cell_type": "markdown",
   "metadata": {},
   "source": [
    "<li>Замініть у таблиці значення \"—\" на значення NaN</li>"
   ]
  },
  {
   "cell_type": "code",
   "execution_count": null,
   "metadata": {},
   "outputs": [],
   "source": [
    "birth_coef.replace(\"—\", \"NaN\", inplace=True)\n",
    "print(birth_coef)"
   ]
  },
  {
   "cell_type": "markdown",
   "metadata": {},
   "source": [
    "<li>Визначте типи всіх стовпців за допомогою&nbsp;<code>dataframe.dtypes</code></li>"
   ]
  },
  {
   "cell_type": "code",
   "execution_count": null,
   "metadata": {},
   "outputs": [],
   "source": [
    "print(birth_coef.dtypes)"
   ]
  },
  {
   "cell_type": "markdown",
   "metadata": {},
   "source": [
    "<li>Замініть типи нечислових колонок на числові. Підказка - це колонки, де знаходився символ \"—\"</li>"
   ]
  },
  {
   "cell_type": "code",
   "execution_count": null,
   "metadata": {},
   "outputs": [],
   "source": [
    "\n",
    "for i in birth_coef.columns:\n",
    "    if birth_coef[i].dtypes != \"float64\":\n",
    "        try:\n",
    "            birth_coef[i] = birth_coef[i].astype(\"float64\")\n",
    "        except:\n",
    "            continue\n",
    "print(birth_coef.dtypes)"
   ]
  },
  {
   "cell_type": "markdown",
   "metadata": {},
   "source": [
    "<li>Порахуйте, яка частка пропусків міститься в кожній колонці (використовуйте методи&nbsp;<code>isnull</code>&nbsp;та&nbsp;<code>sum</code>)</li>"
   ]
  },
  {
   "cell_type": "code",
   "execution_count": null,
   "metadata": {},
   "outputs": [],
   "source": [
    "missing_values_fraction = birth_coef.isnull().sum() / len(birth_coef)\n",
    "print(missing_values_fraction)\n"
   ]
  },
  {
   "cell_type": "markdown",
   "metadata": {},
   "source": [
    "<li>Видаліть з таблиці дані по всій країні, останній рядок таблиці</li>"
   ]
  },
  {
   "cell_type": "code",
   "execution_count": null,
   "metadata": {},
   "outputs": [],
   "source": [
    "birth_coef = birth_coef.drop(birth_coef.index[-1])\n",
    "print(birth_coef)"
   ]
  },
  {
   "cell_type": "markdown",
   "metadata": {},
   "source": [
    "<li>Замініть відсутні дані в стовпцях середніми значеннями цих стовпців (метод&nbsp;<code>fillna</code>)</li>"
   ]
  },
  {
   "cell_type": "code",
   "execution_count": null,
   "metadata": {},
   "outputs": [],
   "source": [
    "column_means = birth_coef.mean(numeric_only=True).round(1)\n",
    "birth_coef = birth_coef.fillna(column_means)\n",
    "print(birth_coef)\n"
   ]
  },
  {
   "cell_type": "markdown",
   "metadata": {},
   "source": [
    "<li>Отримайте список регіонів, де рівень народжуваності у 2019 році був вищим за середній по Україні</li>"
   ]
  },
  {
   "cell_type": "code",
   "execution_count": null,
   "metadata": {},
   "outputs": [],
   "source": [
    "mean_birth_rate_ukraine_2019 = birth_coef['2019'].mean()\n",
    "regions_above_avg_2019 = birth_coef[birth_coef['2019'] > mean_birth_rate_ukraine_2019]['Регіон'].tolist()\n",
    "print(\"Список регіонів з рівнем народжуваності вищим за середній по Україні у 2019 році:\")\n",
    "print(regions_above_avg_2019)\n"
   ]
  },
  {
   "cell_type": "markdown",
   "metadata": {},
   "source": [
    "<li>У якому регіоні була найвища народжуваність у 2014 році?</li>"
   ]
  },
  {
   "cell_type": "code",
   "execution_count": null,
   "metadata": {},
   "outputs": [],
   "source": [
    "region_highest_birthrate_2014 = birth_coef.loc[birth_coef['2014'].idxmax(), 'Регіон']\n",
    "max_birthrate_2014 = birth_coef['2014'].max()\n",
    "\n",
    "print(f\"У регіоні {region_highest_birthrate_2014} була найвища народжуваність у 2014 році з рівнем {max_birthrate_2014}.\")\n"
   ]
  },
  {
   "cell_type": "markdown",
   "metadata": {},
   "source": [
    "<li>Побудуйте стовпчикову діаграму народжуваності по регіонах у 2019 році</li>"
   ]
  },
  {
   "cell_type": "code",
   "execution_count": null,
   "metadata": {},
   "outputs": [],
   "source": [
    "import matplotlib.pyplot as plt\n",
    "\n",
    "# Вибір даних для 2019 року\n",
    "births_2019 = birth_coef[['Регіон', '2019']].dropna()\n",
    "\n",
    "plt.figure(figsize=(12, 6))\n",
    "plt.bar(births_2019['Регіон'], births_2019['2019'], color='skyblue')\n",
    "plt.title('Народжуваність по регіонах у 2019 році')\n",
    "plt.xlabel('Регіон')\n",
    "plt.ylabel('Коефіцієнт народжуваності')\n",
    "plt.xticks(rotation=90)\n",
    "plt.grid(axis='y', linestyle='--', alpha=0.7)\n",
    "plt.tight_layout()\n",
    "plt.show()\n"
   ]
  }
 ],
 "metadata": {
  "kernelspec": {
   "display_name": "Python 3",
   "language": "python",
   "name": "python3"
  },
  "language_info": {
   "codemirror_mode": {
    "name": "ipython",
    "version": 3
   },
   "file_extension": ".py",
   "mimetype": "text/x-python",
   "name": "python",
   "nbconvert_exporter": "python",
   "pygments_lexer": "ipython3",
   "version": "3.11.6"
  }
 },
 "nbformat": 4,
 "nbformat_minor": 2
}
