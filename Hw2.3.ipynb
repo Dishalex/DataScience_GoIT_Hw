{
 "cells": [
  {
   "cell_type": "markdown",
   "metadata": {},
   "source": [
    "<p><strong class=\"ql-size-large\">Частина третя: Аналіз датасет c Kaggle.com</strong></p>\n",
    "\n",
    "<ul>\n",
    "<li>Прочитайте csv файл (використовуйте функцію&nbsp;<code>read_csv</code>)</li>\n",
    "<li>Виведіть перші п'ять рядків (використовується функція&nbsp;<code>head</code>)</li>\n",
    "<li>Виведіть розміри датасету (використовуйте атрибут&nbsp;<code>shape</code>)</li>\n",
    "<li><strong>Про скільки книг зберігає дані датасет?</strong>\n",
    "<strong>Відповідь: 550</strong></li>\n",
    "</ul>"
   ]
  },
  {
   "cell_type": "code",
   "execution_count": 2,
   "metadata": {},
   "outputs": [
    {
     "name": "stdout",
     "output_type": "stream",
     "text": [
      "<bound method NDFrame.head of                                                   Name  \\\n",
      "0                        10-Day Green Smoothie Cleanse   \n",
      "1                                    11/22/63: A Novel   \n",
      "2              12 Rules for Life: An Antidote to Chaos   \n",
      "3                               1984 (Signet Classics)   \n",
      "4    5,000 Awesome Facts (About Everything!) (Natio...   \n",
      "..                                                 ...   \n",
      "545       Wrecking Ball (Diary of a Wimpy Kid Book 14)   \n",
      "546  You Are a Badass: How to Stop Doubting Your Gr...   \n",
      "547  You Are a Badass: How to Stop Doubting Your Gr...   \n",
      "548  You Are a Badass: How to Stop Doubting Your Gr...   \n",
      "549  You Are a Badass: How to Stop Doubting Your Gr...   \n",
      "\n",
      "                       Author  User Rating  Reviews  Price  Year        Genre  \n",
      "0                    JJ Smith          4.7    17350      8  2016  Non Fiction  \n",
      "1                Stephen King          4.6     2052     22  2011      Fiction  \n",
      "2          Jordan B. Peterson          4.7    18979     15  2018  Non Fiction  \n",
      "3               George Orwell          4.7    21424      6  2017      Fiction  \n",
      "4    National Geographic Kids          4.8     7665     12  2019  Non Fiction  \n",
      "..                        ...          ...      ...    ...   ...          ...  \n",
      "545               Jeff Kinney          4.9     9413      8  2019      Fiction  \n",
      "546               Jen Sincero          4.7    14331      8  2016  Non Fiction  \n",
      "547               Jen Sincero          4.7    14331      8  2017  Non Fiction  \n",
      "548               Jen Sincero          4.7    14331      8  2018  Non Fiction  \n",
      "549               Jen Sincero          4.7    14331      8  2019  Non Fiction  \n",
      "\n",
      "[550 rows x 7 columns]>\n",
      "========================\n",
      "(550, 7)\n",
      "========================\n",
      "Index(['Name', 'Author', 'User Rating', 'Reviews', 'Price', 'Year', 'Genre'], dtype='object')\n",
      "========================\n",
      "Index(['name', 'author', 'user_rating', 'reviews', 'price', 'year', 'genre'], dtype='object')\n"
     ]
    }
   ],
   "source": [
    "import pandas as pd\n",
    "\n",
    "bestsellers_dataset = pd.read_csv('bestsellers with categories.csv')\n",
    "\n",
    "print(bestsellers_dataset.head)\n",
    "print('========================')\n",
    "print(bestsellers_dataset.shape)\n",
    "print('========================')\n",
    "print(bestsellers_dataset.columns)\n",
    "bestsellers_dataset.columns = ['name', 'author', 'user_rating', 'reviews', 'price', 'year', 'genre']\n",
    "print('========================')\n",
    "print(bestsellers_dataset.columns)\n"
   ]
  },
  {
   "cell_type": "markdown",
   "metadata": {},
   "source": [
    "\n",
    "<li>Перевірте, чи у всіх рядків вистачає даних: виведіть кількість пропусків (na) у кожному зі стовпців (використовуйте функції&nbsp;<code>isna</code>&nbsp;та&nbsp;<code>sum</code>)</li>\n",
    "<li><strong>Запитання:</strong> Чи є в якихось змінних пропуски? (Так / ні)</li>\n",
    "<li><strong>Відповідь: Ні </strong></li>"
   ]
  },
  {
   "cell_type": "code",
   "execution_count": 3,
   "metadata": {},
   "outputs": [
    {
     "name": "stdout",
     "output_type": "stream",
     "text": [
      "name           0\n",
      "author         0\n",
      "user_rating    0\n",
      "reviews        0\n",
      "price          0\n",
      "year           0\n",
      "genre          0\n",
      "dtype: int64\n"
     ]
    }
   ],
   "source": [
    "missing_values = bestsellers_dataset.isna().sum()\n",
    "print(missing_values)"
   ]
  },
  {
   "cell_type": "markdown",
   "metadata": {},
   "source": [
    "<li>Перевірте, які є унікальні значення в колонці&nbsp;<code>genre</code>&nbsp;(використовуйте функцію&nbsp;<code>unique</code>)</li>\n",
    "<li><strong>Запитання:</strong> Які є унікальні жанри?</li>\n",
    "<li><strong>Відповідь: 'Non Fiction', 'Fiction'</strong></li>\n",
    "\n"
   ]
  },
  {
   "cell_type": "code",
   "execution_count": 4,
   "metadata": {},
   "outputs": [
    {
     "name": "stdout",
     "output_type": "stream",
     "text": [
      "['Non Fiction' 'Fiction']\n"
     ]
    }
   ],
   "source": [
    "unique_genres = bestsellers_dataset['genre'].unique()\n",
    "print(unique_genres)"
   ]
  },
  {
   "cell_type": "markdown",
   "metadata": {},
   "source": [
    "<li>Тепер подивіться на розподіл цін: побудуйте діаграму (використовуйте&nbsp;<code>kind='hist'</code>)</li>\n",
    "<li>Визначте, яка ціна у нас максимальна, мінімальна, середня, медіанна (використовуйте функції max, min, mean, median)</li>\n",
    "<li><strong>Відповідь:</strong> Максимальна ціна? <strong>105</strong> </li>\n",
    "<li><strong>Відповідь:</strong> Мінімальна ціна? <strong>0</strong></li>\n",
    "<li><strong>Відповідь:</strong> Середня ціна? <strong>13.1</strong></li>\n",
    "<li><strong>Відповідь: </strong>Медіанна ціна? <strong>11.0</strong></li>"
   ]
  },
  {
   "cell_type": "code",
   "execution_count": 5,
   "metadata": {},
   "outputs": [
    {
     "data": {
      "image/png": "[encoded data removed]",
      "text/plain": [
       "<Figure size 640x480 with 1 Axes>"
      ]
     },
     "metadata": {},
     "output_type": "display_data"
    },
    {
     "name": "stdout",
     "output_type": "stream",
     "text": [
      "Мінімальна ціна: 0\n",
      "Максимальна ціна: 105\n",
      "Середня ціна: 13.1\n",
      "Медіанна ціна: 11.0\n"
     ]
    }
   ],
   "source": [
    "import matplotlib.pyplot as plt\n",
    "\n",
    "bestsellers_dataset['price'].plot(kind='hist', bins=40, edgecolor='black')\n",
    "plt.title('Розподіл цін')\n",
    "plt.xlabel('Ціна')\n",
    "plt.ylabel('Частота')\n",
    "plt.show()\n",
    "\n",
    "# Визначення максимальної, мінімальної, середньої та медіанної ціни\n",
    "min_price = bestsellers_dataset['price'].min()\n",
    "max_price = bestsellers_dataset['price'].max()\n",
    "mean_price = bestsellers_dataset['price'].mean()\n",
    "median_price = bestsellers_dataset['price'].median()\n",
    "\n",
    "print(\"Мінімальна ціна:\", min_price)\n",
    "print(\"Максимальна ціна:\", max_price)\n",
    "print(\"Середня ціна:\", mean_price)\n",
    "print(\"Медіанна ціна:\", median_price)"
   ]
  },
  {
   "cell_type": "markdown",
   "metadata": {},
   "source": [
    "<strong class=\"ql-size-large\">Пошук та сортування даних</strong>\n",
    "\n",
    "<li><strong>Відповідь:</strong> Який рейтинг у датасеті найвищий? Відповідь: <strong>4.9</strong></li>"
   ]
  },
  {
   "cell_type": "code",
   "execution_count": 6,
   "metadata": {},
   "outputs": [
    {
     "name": "stdout",
     "output_type": "stream",
     "text": [
      "Максимальний рейтинг користувача у датасеті: 4.9\n"
     ]
    }
   ],
   "source": [
    "max_rating = bestsellers_dataset['user_rating'].max()\n",
    "print(f\"Максимальний рейтинг користувача у датасеті: {max_rating}\")"
   ]
  },
  {
   "cell_type": "markdown",
   "metadata": {},
   "source": [
    "<li><strong>Відповідь:</strong> Скільки книг мають такий рейтинг? Відповідь: <strong>52</strong></li>\n"
   ]
  },
  {
   "cell_type": "code",
   "execution_count": 7,
   "metadata": {},
   "outputs": [
    {
     "name": "stdout",
     "output_type": "stream",
     "text": [
      "Кількість книг з максимальним рейтингом: 52\n"
     ]
    }
   ],
   "source": [
    "books_max_rating = bestsellers_dataset[bestsellers_dataset['user_rating'] == max_rating].shape[0]\n",
    "print(f\"Кількість книг з максимальним рейтингом: {books_max_rating}\")"
   ]
  },
  {
   "cell_type": "markdown",
   "metadata": {},
   "source": [
    "<li><strong>Відповідь:</strong> Яка книга має найбільше відгуків? Відповідь: <strong>'Where the Crawdads Sing'</strong></li>"
   ]
  },
  {
   "cell_type": "code",
   "execution_count": 8,
   "metadata": {},
   "outputs": [
    {
     "name": "stdout",
     "output_type": "stream",
     "text": [
      "Найбільше відгуків: 87841 має 'Where the Crawdads Sing'\n"
     ]
    }
   ],
   "source": [
    "index_max_reviews = bestsellers_dataset['reviews'].idxmax()\n",
    "book_max_reviews = bestsellers_dataset.loc[index_max_reviews, 'name']\n",
    "number_reviews_book = bestsellers_dataset.loc[index_max_reviews, 'reviews']\n",
    "\n",
    "print(f\"Найбільше відгуків: {number_reviews_book} має '{book_max_reviews}'\") "
   ]
  },
  {
   "cell_type": "markdown",
   "metadata": {},
   "source": [
    "<li><strong>Відповідь:</strong> З тих книг, що потрапили до Топ-50 у 2015 році, яка книга найдорожча (можна використати проміжний датафрейм)? Відповідь: <strong>'Publication Manual of the American Psychological Association, 6th Edition' з ціною 46$</strong></li>"
   ]
  },
  {
   "cell_type": "code",
   "execution_count": 12,
   "metadata": {},
   "outputs": [
    {
     "name": "stdout",
     "output_type": "stream",
     "text": [
      "Найдорожча серед книг Топ-50 за 2015 рік: 'Publication Manual of the American Psychological Association, 6th Edition' з ціною 46$\n"
     ]
    }
   ],
   "source": [
    "df_2015 = bestsellers_dataset[bestsellers_dataset['year'] == 2015]\n",
    "index_max_price_book_2015 = df_2015['price'].idxmax()\n",
    "name_book_2015max = df_2015.loc[index_max_price_book_2015, 'name']\n",
    "price_book_2015max = df_2015.loc[index_max_price_book_2015, 'price']\n",
    "print(f\"Найдорожча серед книг Топ-50 за 2015 рік: '{name_book_2015max}' з ціною {price_book_2015max}$\")"
   ]
  },
  {
   "cell_type": "markdown",
   "metadata": {},
   "source": [
    "<li><strong>Відповідь:</strong> Скільки книг жанру Fiction потрапили до Топ-50 у 2010 році (використовуйте&nbsp;<code>&amp;</code>)? Відповідь: <strong>20</strong></li>"
   ]
  },
  {
   "cell_type": "code",
   "execution_count": 13,
   "metadata": {},
   "outputs": [
    {
     "name": "stdout",
     "output_type": "stream",
     "text": [
      "Кількість книг жанру Fiction у Топ-50 у 2010 році: 20\n"
     ]
    }
   ],
   "source": [
    "fiction_books_2010 = bestsellers_dataset[(bestsellers_dataset['year'] == 2010) & (bestsellers_dataset['genre'] == 'Fiction')]\n",
    "fiction_books_count = fiction_books_2010.shape[0]\n",
    "print(\"Кількість книг жанру Fiction у Топ-50 у 2010 році:\", fiction_books_count)"
   ]
  },
  {
   "cell_type": "markdown",
   "metadata": {},
   "source": [
    "<li><strong>Відповідь:</strong> Скільки книг з рейтингом 4.9 потрапило до рейтингу у 2010 та 2011 роках (використовуйте&nbsp;<code>|</code>&nbsp;або функцію&nbsp;<code>isin</code>)? Відповідь: <strong>1</strong></li>"
   ]
  },
  {
   "cell_type": "code",
   "execution_count": 19,
   "metadata": {},
   "outputs": [
    {
     "name": "stdout",
     "output_type": "stream",
     "text": [
      "Кількість книг з рейтингом 4.9 у 2010 та 2011 роках: 1\n"
     ]
    }
   ],
   "source": [
    "high_rated_books = bestsellers_dataset[(bestsellers_dataset['user_rating'] == 4.9) & (bestsellers_dataset['year'].isin([2010, 2011]))]\n",
    "high_rated_books_count = high_rated_books.shape[0]\n",
    "print(\"Кількість книг з рейтингом 4.9 у 2010 та 2011 роках:\", high_rated_books_count)"
   ]
  },
  {
   "cell_type": "code",
   "execution_count": null,
   "metadata": {},
   "outputs": [],
   "source": []
  },
  {
   "cell_type": "markdown",
   "metadata": {},
   "source": [
    "<li>І насамкінець, давайте відсортуємо за зростанням ціни всі книги, які потрапили до рейтингу в 2015 році і коштують дешевше за 8 доларів (використовуйте функцію&nbsp;<code>sort_values</code>).</li>\n",
    "<li><strong>Відповідь: </strong>Яка книга остання у відсортованому списку? Відповідь: <strong> Old School (Diary of a Wimpy Kid #10)</strong></li>"
   ]
  },
  {
   "cell_type": "code",
   "execution_count": 30,
   "metadata": {},
   "outputs": [
    {
     "name": "stdout",
     "output_type": "stream",
     "text": [
      "Остання книга у відсортованому списку: Old School (Diary of a Wimpy Kid #10)\n"
     ]
    }
   ],
   "source": [
    "df_2015_under_8 = bestsellers_dataset[(bestsellers_dataset['year'] == 2015) & (bestsellers_dataset['price'] < 8)]\n",
    "df_sorted = df_2015_under_8.sort_values(by='price', ascending=True)\n",
    "last_book = df_sorted.iloc[-1]\n",
    "print(\"Остання книга у відсортованому списку:\", last_book['name'])"
   ]
  },
  {
   "cell_type": "markdown",
   "metadata": {},
   "source": [
    "<p><strong class=\"ql-size-large\">Агрегування даних та з'єднання таблиць</strong></p>"
   ]
  },
  {
   "cell_type": "markdown",
   "metadata": {},
   "source": [
    "<li>Для початку давайте подивимося на максимальну та мінімальну ціни для кожного з жанрів (використовуйте функції&nbsp;<code>groupby</code>&nbsp;та&nbsp;<code>agg</code>, для підрахунку мінімальних та максимальних значень використовуйте&nbsp;<code>max</code>&nbsp;та&nbsp;<code>min</code>). Не беріть усі стовпці, виберіть тільки потрібні вам</li>\n",
    "<li><strong>Відповідь:</strong> Максимальна ціна для жанру Fiction: 82</li>\n",
    "<li><strong>Відповідь: </strong>Мінімальна ціна для жанру Fiction: 0</li>\n",
    "<li><strong>Відповідь:</strong> Максимальна ціна для жанру Non Fiction: 105</li>\n",
    "<li><strong>Відповідь:</strong> Мінімальна ціна для жанру Non Fiction: 0</li>"
   ]
  },
  {
   "cell_type": "code",
   "execution_count": 34,
   "metadata": {},
   "outputs": [
    {
     "name": "stdout",
     "output_type": "stream",
     "text": [
      "Максимальна ціна для жанру Fiction: 82\n",
      "Мінімальна ціна для жанру Fiction: 0\n",
      "Максимальна ціна для жанру Non Fiction: 105\n",
      "Мінімальна ціна для жанру Non Fiction: 0\n"
     ]
    }
   ],
   "source": [
    "genre_prices = bestsellers_dataset.groupby('genre')['price'].agg([max, min])\n",
    "for genre, prices in genre_prices.iterrows():\n",
    "    print(f\"Максимальна ціна для жанру {genre}: {prices['max']}\")\n",
    "    print(f\"Мінімальна ціна для жанру {genre}: {prices['min']}\")"
   ]
  },
  {
   "cell_type": "markdown",
   "metadata": {},
   "source": [
    "<li>Тепер створіть новий датафрейм, який вміщатиме кількість книг для кожного з авторів (використовуйте функції&nbsp;<code>groupby</code>&nbsp;та&nbsp;<code>agg</code>, для підрахунку кількості використовуйте&nbsp;<code>count</code>). Не беріть усі стовпці, виберете тільки потрібні</li>\n",
    "<li><strong>Відповідь: </strong>Якої розмірності вийшла таблиця? Відповідь: (248, 1)</li>\n",
    "<li><strong>Відповідь:</strong> Який автор має найбільше книг? Відповідь: Jeff Kinney</li>\n",
    "<li><strong>Відповідь: </strong>Скільки книг цього автора? Відповідь: 12</li>"
   ]
  },
  {
   "cell_type": "code",
   "execution_count": 39,
   "metadata": {},
   "outputs": [
    {
     "name": "stdout",
     "output_type": "stream",
     "text": [
      "Розмір таблиці: (248, 1)\n",
      "Автор з найбільшою кількістю книг: Jeff Kinney\n",
      "Кількість книг цього автора: 12\n"
     ]
    }
   ],
   "source": [
    "author_book_count = bestsellers_dataset.groupby('author').agg(num_books=('name', 'count'))\n",
    "print(\"Розмір таблиці:\", author_book_count.shape)\n",
    "\n",
    "max_books_author = author_book_count['num_books'].idxmax()\n",
    "max_books_count = author_book_count.loc[max_books_author, 'num_books']\n",
    "print(\"Автор з найбільшою кількістю книг:\", max_books_author)\n",
    "print(\"Кількість книг цього автора:\", max_books_count)\n",
    "\n"
   ]
  },
  {
   "cell_type": "markdown",
   "metadata": {},
   "source": [
    "<li>Тепер створіть другий датафрейм, який буде вміщати середній рейтинг для кожного автора (використовуйте функції&nbsp;<code>groupby</code>&nbsp;та&nbsp;<code>agg</code>, для підрахунку середнього значення використовуйте&nbsp;<code>mean</code>). Не беріть усі стовпці, виберете тільки потрібні</li>\n",
    "<li><strong>Відповідь:</strong> У якого автора середній рейтинг мінімальний? Відповідь: Donna Tartt</li>\n",
    "<li><strong>Відповідь:</strong> Який у цього автора середній рейтинг? Відповідь: 3.9</li>"
   ]
  },
  {
   "cell_type": "code",
   "execution_count": 40,
   "metadata": {},
   "outputs": [
    {
     "name": "stdout",
     "output_type": "stream",
     "text": [
      "Автор з мінімальним середнім рейтингом: Donna Tartt\n",
      "Середній рейтинг у цього автора: 3.9\n"
     ]
    }
   ],
   "source": [
    "author_avg_rating = bestsellers_dataset.groupby('author').agg(avg_rating=('user_rating', 'mean'))\n",
    "\n",
    "min_rating_author = author_avg_rating['avg_rating'].idxmin()\n",
    "min_avg_rating = author_avg_rating.loc[min_rating_author, 'avg_rating']\n",
    "\n",
    "print(\"Автор з мінімальним середнім рейтингом:\", min_rating_author)\n",
    "print(\"Середній рейтинг у цього автора:\", min_avg_rating)"
   ]
  },
  {
   "cell_type": "markdown",
   "metadata": {},
   "source": [
    "<li>З'єднайте останні два датафрейми так, щоб для кожного автора було видно кількість книг та середній рейтинг (Використовуйте функцію&nbsp;<code>concat</code>&nbsp;з параметром&nbsp;<code>axis=1</code>). Збережіть результат у змінну</li>\n",
    "<li>Відсортуйте датафрейм за зростаючою кількістю книг та зростаючим рейтингом (використовуйте функцію&nbsp;<code>sort_values</code>)</li>\n",
    "<li><strong>Відповідь: </strong>Який автор перший у списку? <strong> Muriel Barbery</strong></li>"
   ]
  },
  {
   "cell_type": "code",
   "execution_count": 43,
   "metadata": {},
   "outputs": [
    {
     "name": "stdout",
     "output_type": "stream",
     "text": [
      "Перший автор у списку: Muriel Barbery\n"
     ]
    },
    {
     "data": {
      "text/html": [
       "<div>\n",
       "<style scoped>\n",
       "    .dataframe tbody tr th:only-of-type {\n",
       "        vertical-align: middle;\n",
       "    }\n",
       "\n",
       "    .dataframe tbody tr th {\n",
       "        vertical-align: top;\n",
       "    }\n",
       "\n",
       "    .dataframe thead th {\n",
       "        text-align: right;\n",
       "    }\n",
       "</style>\n",
       "<table border=\"1\" class=\"dataframe\">\n",
       "  <thead>\n",
       "    <tr style=\"text-align: right;\">\n",
       "      <th></th>\n",
       "      <th>num_books</th>\n",
       "      <th>avg_rating</th>\n",
       "    </tr>\n",
       "    <tr>\n",
       "      <th>author</th>\n",
       "      <th></th>\n",
       "      <th></th>\n",
       "    </tr>\n",
       "  </thead>\n",
       "  <tbody>\n",
       "    <tr>\n",
       "      <th>Muriel Barbery</th>\n",
       "      <td>1</td>\n",
       "      <td>4.000000</td>\n",
       "    </tr>\n",
       "    <tr>\n",
       "      <th>Chris Cleave</th>\n",
       "      <td>1</td>\n",
       "      <td>4.100000</td>\n",
       "    </tr>\n",
       "    <tr>\n",
       "      <th>Ian K. Smith M.D.</th>\n",
       "      <td>1</td>\n",
       "      <td>4.100000</td>\n",
       "    </tr>\n",
       "    <tr>\n",
       "      <th>Pierre Dukan</th>\n",
       "      <td>1</td>\n",
       "      <td>4.100000</td>\n",
       "    </tr>\n",
       "    <tr>\n",
       "      <th>Elizabeth Strout</th>\n",
       "      <td>1</td>\n",
       "      <td>4.200000</td>\n",
       "    </tr>\n",
       "    <tr>\n",
       "      <th>...</th>\n",
       "      <td>...</td>\n",
       "      <td>...</td>\n",
       "    </tr>\n",
       "    <tr>\n",
       "      <th>American Psychological Association</th>\n",
       "      <td>10</td>\n",
       "      <td>4.500000</td>\n",
       "    </tr>\n",
       "    <tr>\n",
       "      <th>Suzanne Collins</th>\n",
       "      <td>11</td>\n",
       "      <td>4.663636</td>\n",
       "    </tr>\n",
       "    <tr>\n",
       "      <th>Gary Chapman</th>\n",
       "      <td>11</td>\n",
       "      <td>4.736364</td>\n",
       "    </tr>\n",
       "    <tr>\n",
       "      <th>Rick Riordan</th>\n",
       "      <td>11</td>\n",
       "      <td>4.772727</td>\n",
       "    </tr>\n",
       "    <tr>\n",
       "      <th>Jeff Kinney</th>\n",
       "      <td>12</td>\n",
       "      <td>4.800000</td>\n",
       "    </tr>\n",
       "  </tbody>\n",
       "</table>\n",
       "<p>248 rows × 2 columns</p>\n",
       "</div>"
      ],
      "text/plain": [
       "                                    num_books  avg_rating\n",
       "author                                                   \n",
       "Muriel Barbery                              1    4.000000\n",
       "Chris Cleave                                1    4.100000\n",
       "Ian K. Smith M.D.                           1    4.100000\n",
       "Pierre Dukan                                1    4.100000\n",
       "Elizabeth Strout                            1    4.200000\n",
       "...                                       ...         ...\n",
       "American Psychological Association         10    4.500000\n",
       "Suzanne Collins                            11    4.663636\n",
       "Gary Chapman                               11    4.736364\n",
       "Rick Riordan                               11    4.772727\n",
       "Jeff Kinney                                12    4.800000\n",
       "\n",
       "[248 rows x 2 columns]"
      ]
     },
     "execution_count": 43,
     "metadata": {},
     "output_type": "execute_result"
    }
   ],
   "source": [
    "merged_df = pd.concat([author_book_count, author_avg_rating], axis=1)\n",
    "sorted_df = merged_df.sort_values(by=['num_books', 'avg_rating'], ascending=[True, True])\n",
    "\n",
    "print(\"Перший автор у списку:\", sorted_df.index[0])\n",
    "\n",
    "merged_df\n",
    "sorted_df\n"
   ]
  }
 ],
 "metadata": {
  "kernelspec": {
   "display_name": "Python 3",
   "language": "python",
   "name": "python3"
  },
  "language_info": {
   "codemirror_mode": {
    "name": "ipython",
    "version": 3
   },
   "file_extension": ".py",
   "mimetype": "text/x-python",
   "name": "python",
   "nbconvert_exporter": "python",
   "pygments_lexer": "ipython3",
   "version": "3.11.6"
  }
 },
 "nbformat": 4,
 "nbformat_minor": 2
}
