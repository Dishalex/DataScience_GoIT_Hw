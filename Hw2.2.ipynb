{
 "cells": [
  {
   "cell_type": "markdown",
   "metadata": {},
   "source": [
    "<li>Прочитайте файл 2017_jun_final.csv за допомогою методу&nbsp;<code>read_csv</code></li>\n",
    "<li>Прочитайте отриману таблицю, використовуючи метод&nbsp;<code>head</code></li>"
   ]
  },
  {
   "cell_type": "code",
   "execution_count": 7,
   "metadata": {},
   "outputs": [
    {
     "name": "stdout",
     "output_type": "stream",
     "text": [
      "<bound method NDFrame.head of          N                    Посада Мова програмування Спеціалізація  \\\n",
      "0        1        Junior QA engineer                NaN     Manual QA   \n",
      "1        2        Junior QA engineer                NaN     Manual QA   \n",
      "2        3         Software Engineer            C#/.NET           NaN   \n",
      "3        4         Software Engineer         JavaScript           NaN   \n",
      "4        5  Senior Software Engineer         JavaScript           NaN   \n",
      "...    ...                       ...                ...           ...   \n",
      "8699  8700               QA engineer                NaN     Manual QA   \n",
      "8700  8701                 Marketing                NaN           NaN   \n",
      "8701  8702  Junior Software Engineer         Ruby/Rails           NaN   \n",
      "8702  8703                 Team lead                NaN           NaN   \n",
      "8703  8704  Senior Software Engineer               Java           NaN   \n",
      "\n",
      "     Загальний досвід роботи Досвід роботи на поточному місці  \\\n",
      "0                        0.5                              0.5   \n",
      "1            менше 3 місяців                  менше 3 місяців   \n",
      "2                          4                                1   \n",
      "3                          5                                4   \n",
      "4          10 і більше років                              0.5   \n",
      "...                      ...                              ...   \n",
      "8699                       1                  менше 3 місяців   \n",
      "8700                     0.5                              0.5   \n",
      "8701                       1                              0.5   \n",
      "8702                       6                                4   \n",
      "8703                       7                                2   \n",
      "\n",
      "      Зарплата на місяць  Зміна зарплати за 12 місяців   Місто  \\\n",
      "0                    400                             0  Харків   \n",
      "1                    430                           130  Харків   \n",
      "2                   2500                           800    Київ   \n",
      "3                   2000                           400   Одеса   \n",
      "4                   4500                           500    Інше   \n",
      "...                  ...                           ...     ...   \n",
      "8699                 700                           700   Одеса   \n",
      "8700                 400                           120    Київ   \n",
      "8701                 800                           500   Львів   \n",
      "8702                2600                             0  Дніпро   \n",
      "8703                5000                           800   Одеса   \n",
      "\n",
      "       Розмір компанії  ... Ще студент                    Рівень англійської  \\\n",
      "0           до 10 осіб  ...       True    Pre-intermediate (нище середнього)   \n",
      "1     більше 1000 осіб  ...       True  Upper-Intermediate (вище середнього)   \n",
      "2         до 1000 осіб  ...      False               Intermediate (середній)   \n",
      "3          до 200 осіб  ...      False    Pre-intermediate (нище середнього)   \n",
      "4           до 10 осіб  ...      False               Intermediate (середній)   \n",
      "...                ...  ...        ...                                   ...   \n",
      "8699        до 50 осіб  ...      False               Intermediate (середній)   \n",
      "8700        до 50 осіб  ...      False    Pre-intermediate (нище середнього)   \n",
      "8701        до 10 осіб  ...      False  Upper-Intermediate (вище середнього)   \n",
      "8702  більше 1000 осіб  ...      False                 Advanced (просунутий)   \n",
      "8703      до 1000 осіб  ...      False  Upper-Intermediate (вище середнього)   \n",
      "\n",
      "                      Предметна область      Дата заповнення  \\\n",
      "0                         iOS,eCommerce  12/06/2017 12:38:08   \n",
      "1                          Веб-розробка  12/06/2017 12:42:51   \n",
      "2     Веб-розробка,Корпоративні системи  12/06/2017 13:02:47   \n",
      "3     Desktop Applications,Веб-розробка  12/06/2017 13:03:01   \n",
      "4     Desktop Applications,Веб-розробка  12/06/2017 13:03:47   \n",
      "...                                 ...                  ...   \n",
      "8699       Android,Desktop Applications  12/07/2017 15:45:24   \n",
      "8700                          eCommerce  12/07/2017 17:00:06   \n",
      "8701  Веб-розробка,Корпоративні системи  12/07/2017 17:32:26   \n",
      "8702                 Фінанси та банкінг  12/07/2017 18:14:59   \n",
      "8703                       Веб-розробка  12/07/2017 21:28:57   \n",
      "\n",
      "                                             User.Agent   exp current_job_exp  \\\n",
      "0     Mozilla/5.0 (Windows NT 10.0; Win64; x64) Appl...   0.5             0.5   \n",
      "1     Mozilla/5.0 (iPad; CPU OS 10_2_1 like Mac OS X...   0.0             0.0   \n",
      "2     Mozilla/5.0 (Windows NT 10.0; Win64; x64) Appl...   4.0             1.0   \n",
      "3     Mozilla/5.0 (Windows NT 6.1; Win64; x64) Apple...   5.0             4.0   \n",
      "4     Mozilla/5.0 (iPhone; CPU iPhone OS 10_3_2 like...  10.0             0.5   \n",
      "...                                                 ...   ...             ...   \n",
      "8699  Mozilla/5.0 (X11; Ubuntu; Linux x86_64; rv:54....   1.0             0.0   \n",
      "8700  Mozilla/5.0 (Windows NT 10.0; Win64; x64) Appl...   0.5             0.5   \n",
      "8701  Mozilla/5.0 (X11; Linux x86_64) AppleWebKit/53...   1.0             0.5   \n",
      "8702  Mozilla/5.0 (Windows NT 6.1) AppleWebKit/537.3...   6.0             4.0   \n",
      "8703  Mozilla/5.0 (iPad; CPU OS 10_3_2 like Mac OS X...   7.0             2.0   \n",
      "\n",
      "     salary Валюта  cls  \n",
      "0       400    NaN   QA  \n",
      "1       430    NaN   QA  \n",
      "2      2500    NaN  DEV  \n",
      "3      2000    NaN  DEV  \n",
      "4      4500    NaN  DEV  \n",
      "...     ...    ...  ...  \n",
      "8699    700    NaN   QA  \n",
      "8700    400    NaN  NaN  \n",
      "8701    800    NaN  DEV  \n",
      "8702   2600    NaN   PM  \n",
      "8703   5000    NaN  DEV  \n",
      "\n",
      "[8704 rows x 25 columns]>\n"
     ]
    }
   ],
   "source": [
    "import pandas as pd\n",
    "\n",
    "df = pd.read_csv('2017_jun_final.csv')\n",
    "\n",
    "print(df.head)\n"
   ]
  },
  {
   "cell_type": "markdown",
   "metadata": {},
   "source": [
    "<li>Визначте розмір таблиці за допомогою методу&nbsp;shape</li>"
   ]
  },
  {
   "cell_type": "code",
   "execution_count": null,
   "metadata": {},
   "outputs": [],
   "source": []
  },
  {
   "cell_type": "markdown",
   "metadata": {},
   "source": [
    "<li>Визначте типи всіх стовпців за допомогою&nbsp;<code>dataframe.dtypes</code></li>"
   ]
  },
  {
   "cell_type": "markdown",
   "metadata": {},
   "source": [
    "<li>Порахуйте, яка частка пропусків міститься в кожній колонці (використовуйте методи&nbsp;<code>isnull</code>&nbsp;та&nbsp;<code>sum</code>)</li>"
   ]
  },
  {
   "cell_type": "markdown",
   "metadata": {},
   "source": [
    "<li>Видаліть усі стовпці з пропусками, крім стовпця \"Мова програмування\"</li>\n"
   ]
  },
  {
   "cell_type": "markdown",
   "metadata": {},
   "source": [
    "<li>Знову порахуйте, яка частка пропусків міститься в кожній колонці і переконайтеся, що залишився тільки стовпець \"Мова.програмування\"</li>\n"
   ]
  },
  {
   "cell_type": "markdown",
   "metadata": {},
   "source": [
    "<li>Видаліть усі рядки у вихідній таблиці за допомогою методу&nbsp;<code>dropna</code></li>"
   ]
  },
  {
   "cell_type": "markdown",
   "metadata": {},
   "source": [
    "\n",
    "\n",
    "<li>Визначте новий розмір таблиці за допомогою методу&nbsp;<code>shape</code></li>\n",
    "<li>Створіть нову таблицю&nbsp;<code>python_data</code>, в якій будуть тільки рядки зі спеціалістами, які вказали мову програмування Python</li>\n",
    "<li>Визначте розмір таблиці&nbsp;<code>python_data</code>&nbsp;за допомогою методу&nbsp;<code>shape</code></li>\n",
    "<li>Використовуючи метод&nbsp;<code><a href=\"https://pandas.pydata.org/docs/reference/api/pandas.DataFrame.groupby.html\" rel=\"noopener noreferrer\" target=\"_blank\">groupby</a></code>, виконайте групування за стовпчиком \"Посада\"</li>\n",
    "<li>Створіть новий DataFrame, де для згрупованих даних за стовпчиком \"Посада\", виконайте агрегацію даних за допомогою методу&nbsp;<code><a href=\"https://pandas.pydata.org/docs/reference/api/pandas.DataFrame.agg.html\" rel=\"noopener noreferrer\" target=\"_blank\">agg</a></code>&nbsp;і знайдіть мінімальне та максимальне значення у стовпчику \"Зарплата.в.місяць\"</li>\n",
    "<li>Створіть функцію&nbsp;<code>fill_avg_salary</code>, яка повертатиме середнє значення заробітної плати на місяць. Використовуйте її для методу&nbsp;<code><a href=\"https://pandas.pydata.org/docs/reference/api/pandas.DataFrame.apply.html\" rel=\"noopener noreferrer\" target=\"_blank\">apply</a></code>&nbsp;та створіть новий стовпчик \"avg\"</li>\n",
    "<li>Створіть описову статистику за допомогою методу&nbsp;<code>describe</code>&nbsp;для нового стовпчика.</li><li>Збережіть отриману таблицю в CSV файл</li>"
   ]
  }
 ],
 "metadata": {
  "kernelspec": {
   "display_name": "Python 3",
   "language": "python",
   "name": "python3"
  },
  "language_info": {
   "codemirror_mode": {
    "name": "ipython",
    "version": 3
   },
   "file_extension": ".py",
   "mimetype": "text/x-python",
   "name": "python",
   "nbconvert_exporter": "python",
   "pygments_lexer": "ipython3",
   "version": "3.11.6"
  }
 },
 "nbformat": 4,
 "nbformat_minor": 2
}
