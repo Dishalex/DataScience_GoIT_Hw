{
 "cells": [
  {
   "cell_type": "markdown",
   "metadata": {},
   "source": [
    "<li>Прочитайте файл 2017_jun_final.csv за допомогою методу&nbsp;<code>read_csv</code></li>\n",
    "<li>Прочитайте отриману таблицю, використовуючи метод&nbsp;<code>head</code></li>"
   ]
  },
  {
   "cell_type": "code",
   "execution_count": null,
   "metadata": {},
   "outputs": [],
   "source": [
    "import pandas as pd\n",
    "\n",
    "df = pd.read_csv('2017_jun_final.csv')\n",
    "\n",
    "print(df.head)\n"
   ]
  },
  {
   "cell_type": "markdown",
   "metadata": {},
   "source": [
    "<li>Визначте розмір таблиці за допомогою методу&nbsp;shape</li>"
   ]
  },
  {
   "cell_type": "code",
   "execution_count": null,
   "metadata": {},
   "outputs": [],
   "source": [
    "print(df.shape)"
   ]
  },
  {
   "cell_type": "markdown",
   "metadata": {},
   "source": [
    "<li>Визначте типи всіх стовпців за допомогою&nbsp;<code>dataframe.dtypes</code></li>"
   ]
  },
  {
   "cell_type": "code",
   "execution_count": null,
   "metadata": {},
   "outputs": [],
   "source": [
    "print(df.dtypes)"
   ]
  },
  {
   "cell_type": "markdown",
   "metadata": {},
   "source": [
    "<li>Порахуйте, яка частка пропусків міститься в кожній колонці (використовуйте методи&nbsp;<code>isnull</code>&nbsp;та&nbsp;<code>sum</code>)</li>"
   ]
  },
  {
   "cell_type": "code",
   "execution_count": null,
   "metadata": {},
   "outputs": [],
   "source": [
    "missing_values_fraction = df.isnull().sum() / len(df)\n",
    "print(missing_values_fraction)"
   ]
  },
  {
   "cell_type": "markdown",
   "metadata": {},
   "source": [
    "<li>Видаліть усі стовпці з пропусками, крім стовпця \"Мова програмування\"</li>\n"
   ]
  },
  {
   "cell_type": "code",
   "execution_count": null,
   "metadata": {},
   "outputs": [],
   "source": [
    "columns_to_keep = ['Мова програмування']\n",
    "columns_with_na = df.columns[df.isna().any()]\n",
    "columns_to_drop = columns_with_na.difference(columns_to_keep)\n",
    "df_cleaned = df.drop(columns_to_drop, axis=1)\n",
    "print(df.columns)\n",
    "print(df_cleaned.columns)"
   ]
  },
  {
   "cell_type": "markdown",
   "metadata": {},
   "source": [
    "<li>Знову порахуйте, яка частка пропусків міститься в кожній колонці і переконайтеся, що залишився тільки стовпець \"Мова.програмування\"</li>\n"
   ]
  },
  {
   "cell_type": "code",
   "execution_count": null,
   "metadata": {},
   "outputs": [],
   "source": [
    "missing_values_fraction = df_cleaned.isnull().sum() / len(df_cleaned)\n",
    "print(missing_values_fraction)"
   ]
  },
  {
   "cell_type": "markdown",
   "metadata": {},
   "source": [
    "<li>Видаліть усі рядки у вихідній таблиці за допомогою методу&nbsp;<code>dropna</code></li>"
   ]
  },
  {
   "cell_type": "code",
   "execution_count": null,
   "metadata": {},
   "outputs": [],
   "source": [
    "df.dropna()"
   ]
  },
  {
   "cell_type": "markdown",
   "metadata": {},
   "source": [
    "<li>Визначте новий розмір таблиці за допомогою методу&nbsp;<code>shape</code></li>"
   ]
  },
  {
   "cell_type": "code",
   "execution_count": null,
   "metadata": {},
   "outputs": [],
   "source": [
    "print(df.shape)"
   ]
  },
  {
   "cell_type": "markdown",
   "metadata": {},
   "source": [
    "<li>Створіть нову таблицю&nbsp;<code>python_data</code>, в якій будуть тільки рядки зі спеціалістами, які вказали мову програмування Python</li>"
   ]
  },
  {
   "cell_type": "code",
   "execution_count": null,
   "metadata": {},
   "outputs": [],
   "source": [
    "dataset_language  = df_cleaned['Мова програмування'].str.contains('Python', na=False)\n",
    "python_data = df_cleaned[dataset_language]\n",
    "print(python_data)"
   ]
  },
  {
   "cell_type": "markdown",
   "metadata": {},
   "source": [
    "<li>Визначте розмір таблиці&nbsp;<code>python_data</code>&nbsp;за допомогою методу&nbsp;<code>shape</code></li>"
   ]
  },
  {
   "cell_type": "code",
   "execution_count": null,
   "metadata": {},
   "outputs": [],
   "source": [
    "print(python_data.shape)"
   ]
  },
  {
   "cell_type": "markdown",
   "metadata": {},
   "source": [
    "<li>Використовуючи метод&nbsp;<code><a href=\"https://pandas.pydata.org/docs/reference/api/pandas.DataFrame.groupby.html\" rel=\"noopener noreferrer\" target=\"_blank\">groupby</a></code>, виконайте групування за стовпчиком \"Посада\"</li>"
   ]
  },
  {
   "cell_type": "code",
   "execution_count": null,
   "metadata": {},
   "outputs": [],
   "source": [
    "grouped_by_title = python_data.groupby(by='Посада')\n",
    "\n",
    "print(grouped_by_title)\n",
    "\n",
    "for position, group in grouped_by_title:\n",
    "    print(\"Посада:\", position)\n",
    "    print(group)"
   ]
  },
  {
   "cell_type": "markdown",
   "metadata": {},
   "source": [
    "<li>Створіть новий DataFrame, де для згрупованих даних за стовпчиком \"Посада\", виконайте агрегацію даних за допомогою методу&nbsp;<code><a href=\"https://pandas.pydata.org/docs/reference/api/pandas.DataFrame.agg.html\" rel=\"noopener noreferrer\" target=\"_blank\">agg</a></code>&nbsp;і знайдіть мінімальне та максимальне значення у стовпчику \"Зарплата.в.місяць\"</li>\n"
   ]
  },
  {
   "cell_type": "code",
   "execution_count": null,
   "metadata": {},
   "outputs": [],
   "source": [
    "aggregated_data = grouped_by_title.agg({'Зарплата на місяць': ['min', 'max']})\n",
    "print(aggregated_data)\n",
    "print(aggregated_data.columns)\n"
   ]
  },
  {
   "cell_type": "markdown",
   "metadata": {},
   "source": [
    "<li>Створіть функцію&nbsp;<code>fill_avg_salary</code>, яка повертатиме середнє значення заробітної плати на місяць. Використовуйте її для методу&nbsp;<code><a href=\"https://pandas.pydata.org/docs/reference/api/pandas.DataFrame.apply.html\" rel=\"noopener noreferrer\" target=\"_blank\">apply</a></code>&nbsp;та створіть новий стовпчик \"avg\"</li>"
   ]
  },
  {
   "cell_type": "code",
   "execution_count": null,
   "metadata": {},
   "outputs": [],
   "source": [
    "def avg_salary(dataframe):\n",
    "    return dataframe[('Зарплата на місяць')].mean()\n",
    "\n",
    "aggregated_data['avg'] = grouped_by_title.apply(avg_salary).round(1)\n",
    "\n",
    "print(aggregated_data)"
   ]
  },
  {
   "cell_type": "markdown",
   "metadata": {},
   "source": [
    "\n",
    "<li>Створіть описову статистику за допомогою методу&nbsp;<code>describe</code>&nbsp;для нового стовпчика.</li>"
   ]
  },
  {
   "cell_type": "code",
   "execution_count": null,
   "metadata": {},
   "outputs": [],
   "source": [
    "stats_avg = aggregated_data['avg'].describe()\n",
    "stats_avg\n"
   ]
  },
  {
   "cell_type": "markdown",
   "metadata": {},
   "source": [
    "<li>Збережіть отриману таблицю в CSV файл</li>"
   ]
  },
  {
   "cell_type": "code",
   "execution_count": null,
   "metadata": {},
   "outputs": [],
   "source": [
    "aggregated_data.to_csv(\"avg_salary.csv\")\n",
    "stats_avg.to_csv('avg_stats.csv')"
   ]
  }
 ],
 "metadata": {
  "kernelspec": {
   "display_name": "Python 3",
   "language": "python",
   "name": "python3"
  },
  "language_info": {
   "codemirror_mode": {
    "name": "ipython",
    "version": 3
   },
   "file_extension": ".py",
   "mimetype": "text/x-python",
   "name": "python",
   "nbconvert_exporter": "python",
   "pygments_lexer": "ipython3",
   "version": "3.11.6"
  }
 },
 "nbformat": 4,
 "nbformat_minor": 2
}
